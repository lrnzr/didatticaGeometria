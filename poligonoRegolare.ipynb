{
 "cells": [
  {
   "cell_type": "markdown",
   "metadata": {},
   "source": [
    "# Poligonale e poligono regolare\n",
    "\n",
    "* Questo notebook determina la circonferenza ottimale dei vertici di una poligonale che approssima un poligono regolare e quindi individua il poligono regolare che si adatta ad essa in modo ottimale. A richiesta legge i dati da un file CSV oppure esporta i vertici del poligono regolare in CSV.*\n",
    "\n",
    "Lorenzo"
   ]
  },
  {
   "cell_type": "code",
   "execution_count": null,
   "metadata": {},
   "outputs": [],
   "source": [
    "import numpy as np\n",
    "from scipy import optimize\n",
    "import matplotlib.pyplot as plt"
   ]
  },
  {
   "cell_type": "code",
   "execution_count": null,
   "metadata": {},
   "outputs": [],
   "source": [
    "# funzione obiettivo per la ricerca della circonferenza. metodo geometrico\n",
    "def funzione_obiettivo(argomenti, ascisse, ordinate):\n",
    "    # argomenti[0] = ascissa centro,  argomenti[1] = ordinata centro, argomenti[2] = raggio,\n",
    "    return np.sum((np.sqrt((ascisse-argomenti[0])**2 + (ordinate-argomenti[1])**2)-argomenti[2])**2)\n",
    "\n",
    "def punti_cfr_ottimale(xc, yc, raggio):\n",
    "    alfa = np.linspace(-np.pi, np.pi, 360)\n",
    "    xp = xc + raggio*np.cos(alfa)\n",
    "    yp = yc + raggio*np.sin(alfa)\n",
    "    return xp, yp\n",
    "\n",
    "# Genera il poligono regolare geometrico\n",
    "def poligono_regolare(angolo, argomenti):\n",
    "    # argomenti[0] = ascissa centro,  argomenti[1] = ordinata centro, argomenti[2] = raggio,\n",
    "    # argomenti[5] = indici dei vertici, argomenti[6] = num_vertici o vertici\n",
    "    x_pol_mobile = argomenti[0] + argomenti[2]*np.cos(argomenti[5]*(2*np.pi/argomenti[6])+angolo)\n",
    "    y_pol_mobile = argomenti[1] + argomenti[2]*np.sin(argomenti[5]*(2*np.pi/argomenti[6])+angolo)\n",
    "    return x_pol_mobile, y_pol_mobile\n",
    "\n",
    "def somma_quad(alfa, argomenti):\n",
    "    # argomenti[0] = ascissa centro,  argomenti[1] = ordinata centro, argomenti[2] = raggio,\n",
    "    # argomenti[3] = dati_x, argomenti[4] = dati_y, argomenti[5] = indici dei vertici, argomenti[6] = num_vertici o vertici\n",
    "    x_pol_mobile, y_pol_mobile = poligono_regolare(alfa, argomenti)\n",
    "    somma = np.sum((argomenti[3]-x_pol_mobile)**2+(argomenti[4]-y_pol_mobile)**2)\n",
    "    return somma    "
   ]
  },
  {
   "cell_type": "code",
   "execution_count": null,
   "metadata": {},
   "outputs": [],
   "source": [
    "print()\n",
    "scelta = int(input(\"Leggere le coordinate da un file CSV (1) o generarle da questo programma (2)? \"))\n",
    "if scelta == 2:\n",
    "    rng = np.random.default_rng()\n",
    "    centro = [rng.uniform(-2,2), rng.uniform(-2,2)]\n",
    "    num_vertici = int(input('Inserire il numero di vertici della poligonale: '))\n",
    "    indici_vertici = np.arange(num_vertici)\n",
    "    dati_x = centro[0] +  rng.uniform(19,20)*np.cos(2*np.pi*indici_vertici/num_vertici + rng.uniform(0,.5))\n",
    "    dati_y = centro[1] +  rng.uniform(19,20)*np.sin(2*np.pi*indici_vertici/num_vertici + rng.uniform(0,.5))\n",
    "elif scelta != 2:\n",
    "    print()\n",
    "    nome_file = input(\"Inserire il nome del file CSV: \")\n",
    "    file_in = open(nome_file, \"r\")\n",
    "    coppie_dati = np.loadtxt(file_in, delimiter = \",\", comments = '#', usecols = (0,1))\n",
    "    num_vertici = len(coppie_dati)\n",
    "    indici_vertici = np.arange(num_vertici)\n",
    "    nparrayX_Y = coppie_dati.transpose()\n",
    "    dati_x = nparrayX_Y[0]\n",
    "    dati_y = nparrayX_Y[1]\n",
    "    file_in.close()"
   ]
  },
  {
   "cell_type": "code",
   "execution_count": null,
   "metadata": {},
   "outputs": [],
   "source": [
    "# ricerca della cfr di regressione\n",
    "x_med = np.mean(dati_x)\n",
    "y_med = np.mean(dati_y)\n",
    "# stima_iniziale_raggio \n",
    "stima_iniziale_raggio =np.mean(np.sqrt((dati_x-x_med)**2 + (dati_y-y_med)**2))\n",
    "x0 = np.array([x_med, y_med, stima_iniziale_raggio])\n",
    "esiti_reg_circ = optimize.minimize(funzione_obiettivo, x0, args = (dati_x, dati_y))\n",
    "# print(esiti)\n",
    "if esiti_reg_circ.success:\n",
    "    xc, yc, r = esiti_reg_circ.x\n",
    "elif esiti_reg_circ.success:\n",
    "    quit()"
   ]
  },
  {
   "cell_type": "code",
   "execution_count": null,
   "metadata": {},
   "outputs": [],
   "source": [
    "# minimizzazione dei quadrati delle distanze dai vertici iniziali\n",
    "\n",
    "parametri = [xc, yc, r, dati_x, dati_y, indici_vertici, num_vertici]\n",
    "dizionario = optimize.minimize(somma_quad, 0, parametri)\n",
    "if dizionario.success:\n",
    "    angolo_ottimale = dizionario.x[0]\n",
    "    output_su_file = input('Si intendono salvare su file i vertici del poligono regolare? (s) ')\n",
    "    if output_su_file =='s':\n",
    "        nome_file = input(\"Inserire il nome del file di output: \")\n",
    "        file_out = open(nome_file, \"w\")\n",
    "        coords = np.transpose(poligono_regolare(angolo_ottimale, parametri))\n",
    "        np.savetxt(file_out, coords, fmt = '%10.5f', delimiter = ',', header = 'ascissa, ordinata')\n",
    "        file_out.close()\n",
    "elif dizionario.success:\n",
    "    quit()"
   ]
  },
  {
   "cell_type": "code",
   "execution_count": null,
   "metadata": {},
   "outputs": [],
   "source": [
    "#########################################################################################\n",
    "x_pol_reg, y_pol_reg = poligono_regolare(angolo_ottimale, parametri)\n",
    "xp, yp = punti_cfr_ottimale(xc, yc, r)\n",
    "#########################################################################################"
   ]
  },
  {
   "cell_type": "code",
   "execution_count": null,
   "metadata": {},
   "outputs": [],
   "source": [
    "figura = plt.figure(facecolor = 'white')\n",
    "plt.rcParams['figure.figsize'] = [16, 12]\n",
    "ax = plt.axes()\n",
    "ax.set_axisbelow(True)\n",
    "plt.axis('equal')\n",
    "plt.grid()\n",
    "plt.plot([dati_x, np.roll(dati_x, 1)], [dati_y, np.roll(dati_y, 1)], linewidth = .5, c = 'orange', zorder = -1)\n",
    "plt.plot(xp, yp, linewidth = 1, alpha = 0.5, zorder = -2)\n",
    "plt.scatter(xc, yc, c ='blue', marker = 'x')\n",
    "plt.scatter(dati_x, dati_y, c = 'red', label = 'vertici iniziali poligonale', marker = 'o')\n",
    "plt.scatter(x_pol_reg, y_pol_reg, c = 'blue', label = 'vertici poligono regolare ottimale', marker = '.')\n",
    "plt.fill(x_pol_reg, y_pol_reg, facecolor = 'cornflowerblue', alpha = 0.4, label = 'poligono ottimale')\n",
    "plt.legend(loc = 'best', labelspacing = 0.5)\n",
    "plt.title('Vertici iniziali poligonale, circonferenza ottimale\\n e poligono regolare ottimale')\n",
    "plt.text(16,-18,'centro: ({0:6.4f}, {1:6.4f}), raggio = {2:6.4f}'.format(xc,yc,r))\n",
    "plt.show()"
   ]
  }
 ],
 "metadata": {
  "kernelspec": {
   "display_name": "Python 3.10.7 64-bit",
   "language": "python",
   "name": "python3"
  },
  "language_info": {
   "name": "python",
   "version": "3.10.7"
  },
  "orig_nbformat": 4,
  "vscode": {
   "interpreter": {
    "hash": "26de051ba29f2982a8de78e945f0abaf191376122a1563185a90213a26c5da77"
   }
  }
 },
 "nbformat": 4,
 "nbformat_minor": 2
}
