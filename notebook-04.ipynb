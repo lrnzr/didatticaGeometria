{
 "cells": [
  {
   "cell_type": "markdown",
   "metadata": {},
   "source": [
    "# Rappresenta i punti iniziali e quelli del poligono ottimale"
   ]
  },
  {
   "cell_type": "markdown",
   "metadata": {},
   "source": [
    "Come nel precedente notebook-05, si rappresenta la circonferenza ottimale i punti iniziali effettivi e, in verde, quelli del poligono geometrico (che essendo molto vicini per gli ottagoni, appaiono praticamente sovrapposti).\n",
    "\n",
    "Vedere il notebook-5 per maggiori dettagli e, per una visualizzazione finale migliore provare con i dati del quadrato.\n",
    "\n",
    "@author: lorenzo"
   ]
  },
  {
   "cell_type": "code",
   "execution_count": 1,
   "metadata": {},
   "outputs": [],
   "source": [
    "from scipy import optimize\n",
    "import numpy as np\n",
    "from math import sqrt, pi\n",
    "import matplotlib.pyplot as plt"
   ]
  },
  {
   "cell_type": "code",
   "execution_count": 2,
   "metadata": {},
   "outputs": [],
   "source": [
    "def calc_R(x, y, xc, yc):\n",
    "    return np.sqrt((x-xc)**2 + (y-yc)**2)\n",
    "\n",
    "def f(c, x, y):\n",
    "    Ri = calc_R(x, y, *c)\n",
    "    return Ri - Ri.mean()\n",
    "\n",
    "def least_squares_circle(coords):\n",
    "    x, y = None, None\n",
    "    if isinstance(coords, np.ndarray):\n",
    "        x = coords[:, 0]\n",
    "        y = coords[:, 1]\n",
    "    elif isinstance(coords, list):\n",
    "        x = np.array([point[0] for point in coords])\n",
    "        y = np.array([point[1] for point in coords])\n",
    "    else:\n",
    "        raise Exception(\"Il parametro 'coords' è di un tipo non supportato: \" + str(type(coords)))\n",
    "\n",
    "    # coordinate del baricentro\n",
    "    x_m = np.mean(x)\n",
    "    y_m = np.mean(y)\n",
    "    center_estimate = x_m, y_m\n",
    "    center, _ = optimize.leastsq(f, center_estimate, args = (x, y))\n",
    "    xc, yc = center\n",
    "    Ri = calc_R(x, y, *center)\n",
    "    R = Ri.mean()\n",
    "    residui = np.sum((Ri - R)**2)\n",
    "    return xc, yc, R, residui"
   ]
  },
  {
   "cell_type": "code",
   "execution_count": 3,
   "metadata": {},
   "outputs": [],
   "source": [
    "# Genera il poligono regolare geometrico\n",
    "def poligonoRegolare(alfa, pars):\n",
    "    xPolMobile = []\n",
    "    yPolMobile = []\n",
    "    for n in pars[5]:\n",
    "        xPolMobile.append(pars[0] + pars[2]*np.cos(n*(2*pi/pars[6])+alfa+0.2))\n",
    "        yPolMobile.append(pars[1] + pars[2]*np.sin(n*(2*pi/pars[6])+alfa+0.2))\n",
    "    return xPolMobile, yPolMobile\n",
    "\n",
    "def sommaQuad(alfa, pars):\n",
    "    dim = len(alfa)\n",
    "    verticiUtilizzati = len(pars[5])\n",
    "    xPolMobile, yPolMobile = poligonoRegolare(alfa, pars)\n",
    "    difxq = (np.broadcast_to(pars[3],(dim,verticiUtilizzati)) - np.transpose(xPolMobile))**2\n",
    "    difyq = (np.broadcast_to(pars[4],(dim,verticiUtilizzati)) - np.transpose(yPolMobile))**2\n",
    "    somma = sum(np.transpose(difxq + difyq))\n",
    "    return somma\n",
    "\n",
    "def individuaNAN(x):\n",
    "    return np.where(np.isnan(x))"
   ]
  },
  {
   "cell_type": "markdown",
   "metadata": {},
   "source": [
    "Seguono istruzioni grafiche"
   ]
  },
  {
   "cell_type": "code",
   "execution_count": 4,
   "metadata": {},
   "outputs": [],
   "source": [
    "def plot_data_circle(x, y, xc, yc, R):\n",
    "    \"\"\"\n",
    "      Plot i dati e la circonferenza ottimale.\n",
    "      Inputs:\n",
    "            x : dati, x values (array)\n",
    "            y : dati, y values (array)\n",
    "            xc : ascissa del centro \n",
    "            yc : ordinata del centro\n",
    "            R : raggio della circonferenza ottimale\n",
    "\n",
    "      Output:\n",
    "           None (genera un plot matplotlib).\n",
    "    \"\"\"\n",
    "    f = plt.figure(facecolor = 'white')\n",
    "    plt.axis('equal')\n",
    "\n",
    "    theta_fit = np.linspace(-pi, pi, 180)\n",
    "\n",
    "    x_fit = xc + R*np.cos(theta_fit)\n",
    "    y_fit = yc + R*np.sin(theta_fit)\n",
    "    plt.plot(x_fit, y_fit, 'b-', label = \" circonferenza ottimale\", lw = 2)\n",
    "    plt.plot([xc], [yc], 'bD', mec = 'y', mew = 1)\n",
    "    plt.xlabel('x')\n",
    "    plt.ylabel('y')\n",
    "    # plot i dati\n",
    "    plt.scatter(x, y, c = 'red', label = 'dati')\n",
    "\n",
    "    plt.legend(loc = 'best', labelspacing = 0.1)\n",
    "    plt.grid()\n",
    "    plt.title('Circonferenza ottimale')"
   ]
  },
  {
   "cell_type": "markdown",
   "metadata": {},
   "source": [
    "Viene letto il file dei dati"
   ]
  },
  {
   "cell_type": "code",
   "execution_count": 9,
   "metadata": {},
   "outputs": [],
   "source": [
    "data = np.loadtxt(\"datiOrdinatiInt.csv\", delimiter = \",\")\n",
    "\n",
    "xdata = data[:, 0]\n",
    "ydata = data[:, 1]\n",
    "\n",
    "numLati = len(xdata)\n",
    "indiceN = np.arange(0, numLati, 1)  \n",
    "#costruisco le terne ciascuna delle quali esprime [indice, xdato, ydato]\n",
    "terne=np.transpose(np.array([indiceN, xdata, ydata]))\n",
    "# indici di dove compaiono elementi non numerici NaN\n",
    "indiciNAN = individuaNAN(terne)\n",
    "# elimina le terne contenenenti una o piu' NaN\n",
    "terne = np.delete(terne, indiciNAN[0], 0)\n",
    "# riassegna i dati effettivi \n",
    "[indiciEffettivi, xdata, ydata] = np.transpose(terne)\n",
    "\n",
    "coords = np.transpose([xdata, ydata])\n",
    "xc, yc, r, s = least_squares_circle(coords)\n",
    "par = [xc, yc, r, xdata, ydata, indiciEffettivi, numLati]"
   ]
  },
  {
   "cell_type": "markdown",
   "metadata": {},
   "source": [
    "Le istruzioni successive forniscono a video gli esiti. Il termine fun fornisce il valore del minimo della funzione mentre l'ultimo (x) l'angolo in corrispondenza del quale lo si ottiene."
   ]
  },
  {
   "cell_type": "code",
   "execution_count": 10,
   "metadata": {},
   "outputs": [
    {
     "name": "stdout",
     "output_type": "stream",
     "text": [
      "----------+++-----------\n",
      "ascissaCentro =  34.96123480743832   ordinataCentro =  -0.9728377110489871   raggio =  9.681332768676825\n",
      "----------+++-----------\n",
      "      fun: 0.002370174153330864\n",
      " hess_inv: array([[0.00088911]])\n",
      "      jac: array([-3.16678779e-07])\n",
      "  message: 'Optimization terminated successfully.'\n",
      "     nfev: 15\n",
      "      nit: 3\n",
      "     njev: 5\n",
      "   status: 0\n",
      "  success: True\n",
      "        x: array([0.15944277])\n",
      "----------+++-----------\n"
     ]
    },
    {
     "data": {
      "image/png": "[encoded data removed]",
      "text/plain": [
       "<Figure size 720x720 with 1 Axes>"
      ]
     },
     "metadata": {},
     "output_type": "display_data"
    }
   ],
   "source": [
    "print('----------+++-----------')\n",
    "print('ascissaCentro = ',xc,'  ordinataCentro = ',yc,'  raggio = ',r)\n",
    "print('----------+++-----------')\n",
    "diz = optimize.minimize(sommaQuad, 0, (par))\n",
    "print(diz)\n",
    "print('----------+++-----------')\n",
    "# grafico della circonferenza ottimale e dei punti iniziali\n",
    "plt.rcParams['figure.figsize'] = [10, 10]\n",
    "plot_data_circle(xdata, ydata, xc, yc, r)\n",
    "# Nel caso che il numero dei vertici utilizzati sia minore del numero dei lati\n",
    "if numLati > len(indiciEffettivi):\n",
    "    par[5] = range(numLati)\n",
    "# traccia circ. e punti teorici poligono\n",
    "plt.scatter(poligonoRegolare(diz.x[0],par)[0], poligonoRegolare(diz.x[0],par)[1], c = 'green', label = 'puntiOttimali')\n",
    "plt.show()"
   ]
  },
  {
   "cell_type": "code",
   "execution_count": null,
   "metadata": {},
   "outputs": [],
   "source": []
  }
 ],
 "metadata": {
  "kernelspec": {
   "display_name": "Python 3",
   "language": "python",
   "name": "python3"
  },
  "language_info": {
   "codemirror_mode": {
    "name": "ipython",
    "version": 3
   },
   "file_extension": ".py",
   "mimetype": "text/x-python",
   "name": "python",
   "nbconvert_exporter": "python",
   "pygments_lexer": "ipython3",
   "version": "3.7.4"
  }
 },
 "nbformat": 4,
 "nbformat_minor": 2
}